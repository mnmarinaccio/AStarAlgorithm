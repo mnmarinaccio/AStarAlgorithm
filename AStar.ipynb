{
 "cells": [
  {
   "cell_type": "markdown",
   "id": "74ce64cf",
   "metadata": {},
   "source": [
    "# A* Robotic Path Planning Algorithm\n",
    "--- \n",
    "### Author: Michael Marinaccio, [Github Profile](https://github.com/mnmarinaccio) <br />\n",
    "### Date: February, 2025 <br />\n",
    "---\n",
    "\n",
    "### This Jupyter Notebook demonstrates the A* path planning algorithm for robotics. It defines a grid with obstacles, a start, and a goal position. The notebook visualizes the grid, then uses the A* algorithm to find the shortest path from the start to the goal while avoiding obstacles. The final path is displayed on the grid using matplotlib, with the path, start, and goal clearly marked. <br />\n",
    "---"
   ]
  },
  {
   "cell_type": "code",
   "execution_count": 1,
   "id": "4bf4b064-2822-4ad0-aeb6-c4eb4511d851",
   "metadata": {},
   "outputs": [],
   "source": [
    "import numpy as np\n",
    "import matplotlib.pyplot as plt"
   ]
  },
  {
   "cell_type": "markdown",
   "id": "45023d22",
   "metadata": {},
   "source": [
    "#### Grid Visualization Function"
   ]
  },
  {
   "cell_type": "code",
   "execution_count": 2,
   "id": "4a19c3bb",
   "metadata": {},
   "outputs": [],
   "source": [
    "\n",
    "def visualize_grid(grid):\n",
    "    # Create a color map for visualization\n",
    "    fig, ax = plt.subplots(figsize=(6, 4))\n",
    "    \n",
    "    for row in range(grid.shape[0]):\n",
    "        for col in range(grid.shape[1]):\n",
    "            if (row, col) == start:\n",
    "                color = \"green\"  # Start position\n",
    "            elif (row, col) == goal:\n",
    "                color = \"red\"  # Goal position\n",
    "            elif grid[row, col] == 1:\n",
    "                color = \"black\"  # Obstacle\n",
    "            else:\n",
    "                color = \"white\"  # Free space\n",
    "    \n",
    "            ax.add_patch(plt.Rectangle((col, grid.shape[0] - row - 1), 1, 1, color=color))\n",
    "    \n",
    "    # Set grid limits and aspect\n",
    "    ax.set_xlim(0, grid.shape[1])\n",
    "    ax.set_ylim(0, grid.shape[0])\n",
    "    ax.set_xticks(range(grid.shape[1]))\n",
    "    ax.set_yticks(range(grid.shape[0]))\n",
    "    ax.set_xticklabels([])\n",
    "    ax.set_yticklabels([])\n",
    "    ax.grid(True, color=\"gray\", linewidth=0.5)\n",
    "    ax.set_title(\"Grid Visualization\")\n",
    "    \n",
    "    plt.show()"
   ]
  },
  {
   "cell_type": "markdown",
   "id": "bb93f472",
   "metadata": {},
   "source": [
    "#### Define Grid, Start / Goal Positions, and Visualize"
   ]
  },
  {
   "cell_type": "code",
   "execution_count": 3,
   "id": "c8a3ed47-7399-42ba-a7df-5d9c019ec293",
   "metadata": {},
   "outputs": [
    {
     "name": "stdout",
     "output_type": "stream",
     "text": [
      "START : (8, 4); GOAL : (1, 3)\n"
     ]
    },
    {
     "data": {
      "image/png": "[encoded data removed]",
      "text/plain": [
       "<Figure size 600x400 with 1 Axes>"
      ]
     },
     "metadata": {},
     "output_type": "display_data"
    }
   ],
   "source": [
    "# grid = np.array([[0, 1, 1, 1, 1, 0, 0, 0, 0, 0],\n",
    "#                  [0, 0, 0, 0, 1, 0, 0, 0, 1, 0],\n",
    "#                  [0, 1, 0, 0, 1, 0, 1, 0, 1, 0],\n",
    "#                  [0, 1, 0, 0, 1, 1, 1, 0, 1, 1],\n",
    "#                  [0, 1, 0, 0, 1, 0, 1, 0, 0, 1],\n",
    "#                  [1, 1, 1, 0, 0, 0, 0, 0, 0, 1],\n",
    "#                 ])\n",
    "\n",
    "grid = np.array([\n",
    "    [0, 1, 1, 1, 1, 1, 1, 1, 1, 1],\n",
    "    [0, 0, 1, 0, 0, 0, 1, 0, 0, 1],\n",
    "    [1, 0, 1, 1, 1, 0, 1, 1, 0, 1],\n",
    "    [1, 0, 0, 0, 1, 0, 0, 0, 0, 1],\n",
    "    [1, 1, 1, 0, 1, 1, 1, 1, 0, 1],\n",
    "    [1, 0, 0, 0, 0, 0, 0, 1, 0, 1],\n",
    "    [1, 0, 1, 1, 1, 1, 0, 1, 0, 1],\n",
    "    [1, 0, 0, 0, 0, 1, 0, 1, 0, 1],\n",
    "    [1, 1, 1, 1, 0, 1, 0, 0, 0, 0],\n",
    "    [1, 1, 1, 1, 1, 1, 1, 1, 1, 0]\n",
    "])\n",
    "\n",
    "\n",
    "start = (8, 4)\n",
    "goal = (1, 3)\n",
    "print(f'START : {start}; GOAL : {goal}')\n",
    "visualize_grid(grid)"
   ]
  },
  {
   "cell_type": "markdown",
   "id": "07b1f06f",
   "metadata": {},
   "source": [
    "#### Define Movement Rules (Up, Down, Left, Right)"
   ]
  },
  {
   "cell_type": "code",
   "execution_count": 4,
   "id": "6a597450-5ef9-4648-b80e-511a3d0f5963",
   "metadata": {},
   "outputs": [],
   "source": [
    "# define 4-way movement rules \n",
    "MOVES_4_WAY = [(-1, 0), # Up\n",
    "               (1, 0),      # Down\n",
    "               (0, -1),      # Left \n",
    "               (0, 1)       # Right\n",
    "              ]"
   ]
  },
  {
   "cell_type": "markdown",
   "id": "48099228",
   "metadata": {},
   "source": [
    "#### Path Reconstruction"
   ]
  },
  {
   "cell_type": "code",
   "execution_count": 5,
   "id": "116c8955-7672-411f-a516-36e40b2d96b0",
   "metadata": {},
   "outputs": [],
   "source": [
    "def findStart(came_from, start, goal):\n",
    "    path = []\n",
    "    currPos = goal\n",
    "    while currPos != start:\n",
    "        path.append(currPos)\n",
    "        currPos = came_from[currPos]\n",
    "    path.append(start)\n",
    "    path.reverse()\n",
    "    return path"
   ]
  },
  {
   "cell_type": "markdown",
   "id": "7c0999ea",
   "metadata": {},
   "source": [
    "#### A* Algorithm Implementation"
   ]
  },
  {
   "cell_type": "code",
   "execution_count": 6,
   "id": "9c7eba91-7dbf-4359-be14-e69af54aad76",
   "metadata": {},
   "outputs": [
    {
     "name": "stdout",
     "output_type": "stream",
     "text": [
      "REACHED GOAL (1, 3) and the PARENT is (1, 4)\n",
      "FINAL PATH IS [(8, 4), (7, 4), (7, 3), (7, 2), (7, 1), (6, 1), (5, 1), (5, 2), (5, 3), (5, 4), (5, 5), (5, 6), (6, 6), (7, 6), (8, 6), (8, 7), (8, 8), (7, 8), (6, 8), (5, 8), (4, 8), (3, 8), (3, 7), (3, 6), (3, 5), (2, 5), (1, 5), (1, 4), (1, 3)]\n"
     ]
    }
   ],
   "source": [
    "import heapq\n",
    "\n",
    "g_start = 0\n",
    "h_start = abs(goal[1]-start[1]) + abs(goal[0] - start[0])\n",
    "f_start = g_start + h_start\n",
    "# priority queue (min heap)\n",
    "# format (priority f_n, current position, g_n, parent)\n",
    "pq = []\n",
    "heapq.heappush(pq, (f_start, start, g_start, None))\n",
    "\n",
    "# track visited nodes\n",
    "visited = set()\n",
    "\n",
    "#reconstruction dict\n",
    "came_from = {}\n",
    "\n",
    "# track g_n values \n",
    "g_values = {start: 0}\n",
    "\n",
    "final_path = None\n",
    "\n",
    "# while pq is not empty\n",
    "while pq:\n",
    "    #print(pq)\n",
    "    # remove node from queue\n",
    "    f_n, currPos, g_n, parent = heapq.heappop(pq)\n",
    "    \n",
    "    # goal found\n",
    "    if currPos == goal:\n",
    "        print(f'REACHED GOAL {currPos} and the PARENT is {came_from[currPos]}')\n",
    "        finalPath = findStart(came_from, start, goal)\n",
    "        break\n",
    "\n",
    "    # skip if we have already been to this position\n",
    "    if currPos in visited:\n",
    "        continue\n",
    "    visited.add(currPos)\n",
    "\n",
    "    for move in MOVES_4_WAY:\n",
    "        newPos = (currPos[0]+move[0], currPos[1]+move[1])\n",
    "\n",
    "        # out of bounds or hit an obstacle\n",
    "        if (newPos[0] < 0 or \n",
    "            newPos[1] < 0 or \n",
    "            newPos[0] >= grid.shape[0] or \n",
    "            newPos[1] >= grid.shape[1] or \n",
    "            grid[newPos[0]][newPos[1]] == 1):\n",
    "            continue\n",
    "            \n",
    "        # found valid position, compute g_n, h_n, f_n, and newPos\n",
    "        new_g_n = g_n + 1\n",
    "        h_n = abs(goal[1]-newPos[1]) + abs(goal[0] - newPos[0])\n",
    "        f_n = new_g_n + h_n\n",
    "\n",
    "        # if there is a better path to newPos, update the path\n",
    "        if newPos not in g_values or new_g_n < g_values[newPos]:\n",
    "            g_values[newPos] = new_g_n\n",
    "            heapq.heappush(pq, (f_n, newPos, new_g_n, currPos))\n",
    "            came_from[newPos] = currPos # store path parent\n",
    "\n",
    "\n",
    "print(f'FINAL PATH IS {finalPath}')"
   ]
  },
  {
   "cell_type": "markdown",
   "id": "b561d4ee",
   "metadata": {},
   "source": [
    "#### A* Algorithm Final Path Visualization"
   ]
  },
  {
   "cell_type": "code",
   "execution_count": 7,
   "id": "45a22105-5f41-4166-9f84-88f6fc56532e",
   "metadata": {},
   "outputs": [
    {
     "data": {
      "image/png": "[encoded data removed]",
      "text/plain": [
       "<Figure size 640x480 with 1 Axes>"
      ]
     },
     "metadata": {},
     "output_type": "display_data"
    }
   ],
   "source": [
    "plt.imshow(grid, cmap=\"gray_r\")\n",
    "path_y, path_x = zip(*finalPath)\n",
    "plt.plot(path_x, path_y, color=\"red\", linewidth=2, marker='o', markersize=4, label=\"Path\")\n",
    "plt.scatter(start[1], start[0], color=\"green\", s=100, label=\"Start\")\n",
    "plt.scatter(goal[1], goal[0], color=\"blue\", s=100, label=\"Goal\")\n",
    "plt.title(\"A* Algorithm - Final Path\")\n",
    "plt.legend(loc=\"upper left\", bbox_to_anchor=(1,1))\n",
    "plt.grid(True)\n",
    "plt.show()\n",
    "\n"
   ]
  }
 ],
 "metadata": {
  "kernelspec": {
   "display_name": "PythonGeneral",
   "language": "python",
   "name": "python3"
  },
  "language_info": {
   "codemirror_mode": {
    "name": "ipython",
    "version": 3
   },
   "file_extension": ".py",
   "mimetype": "text/x-python",
   "name": "python",
   "nbconvert_exporter": "python",
   "pygments_lexer": "ipython3",
   "version": "3.11.11"
  }
 },
 "nbformat": 4,
 "nbformat_minor": 5
}
